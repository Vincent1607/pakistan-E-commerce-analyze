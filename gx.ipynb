{
 "cells": [
  {
   "cell_type": "markdown",
   "metadata": {},
   "source": [
    "\n",
    "=================================================\n",
    "Milestone 3\n",
    "\n",
    "Nama: vincent kaunang\n",
    "\n",
    "Batch: HCK 017\n",
    "\n",
    "Objective: menganalisa kemajuan E-Commerce di pakistan berdasarkan tippe pembayaran, jenis item, dan detail dari customer di pakistan\n",
    "\n",
    "Latar belakang: Ada sebuah perusahaan E-Commerce di pakistan yang ingin merekrut saya. Saya adalah seorang data analysist yang diminta untuk memeriksa trafik e-commerce pada 3 tahun terakhir\n",
    "\n",
    "Tujuan: - menganalisa rata-rata harga, membuat grafik total order berdasarkan bulan, dll\n",
    "\n",
    "Divisi: Data Analyst, Data Engineer\n",
    "\n",
    "=================================================\n"
   ]
  },
  {
   "cell_type": "code",
   "execution_count": 2,
   "metadata": {},
   "outputs": [],
   "source": [
    "# Create a data context\n",
    "\n",
    "from great_expectations.data_context import FileDataContext\n",
    "\n",
    "context = FileDataContext.create(project_root_dir='./')"
   ]
  },
  {
   "cell_type": "code",
   "execution_count": 4,
   "metadata": {},
   "outputs": [],
   "source": [
    "# Give a name to a Datasource. This name must be unique between Datasources.\n",
    "datasource_name = 'E-commerce'\n",
    "datasource = context.sources.add_pandas(datasource_name)\n",
    "\n",
    "# Give a name to a data asset\n",
    "asset_name = 'E-commerce'\n",
    "path_to_data = 'C:\\p2-ftds017-hck-m3-Vincent1607\\dags\\P2M3_vincent_kaunang_data_clean1.csv'\n",
    "asset = datasource.add_csv_asset(asset_name, filepath_or_buffer=path_to_data)\n",
    "\n",
    "# Build batch request\n",
    "batch_request = asset.build_batch_request()"
   ]
  },
  {
   "cell_type": "code",
   "execution_count": 5,
   "metadata": {},
   "outputs": [
    {
     "data": {
      "application/vnd.jupyter.widget-view+json": {
       "model_id": "f83b2ef542a74acda5dfe03126fb6e0a",
       "version_major": 2,
       "version_minor": 0
      },
      "text/plain": [
       "Calculating Metrics:   0%|          | 0/1 [00:00<?, ?it/s]"
      ]
     },
     "metadata": {},
     "output_type": "display_data"
    },
    {
     "data": {
      "text/html": [
       "<div>\n",
       "<style scoped>\n",
       "    .dataframe tbody tr th:only-of-type {\n",
       "        vertical-align: middle;\n",
       "    }\n",
       "\n",
       "    .dataframe tbody tr th {\n",
       "        vertical-align: top;\n",
       "    }\n",
       "\n",
       "    .dataframe thead th {\n",
       "        text-align: right;\n",
       "    }\n",
       "</style>\n",
       "<table border=\"1\" class=\"dataframe\">\n",
       "  <thead>\n",
       "    <tr style=\"text-align: right;\">\n",
       "      <th></th>\n",
       "      <th>unnamed:_0</th>\n",
       "      <th>item_id</th>\n",
       "      <th>status</th>\n",
       "      <th>created_at</th>\n",
       "      <th>sku</th>\n",
       "      <th>price</th>\n",
       "      <th>qty_ordered</th>\n",
       "      <th>grand_total</th>\n",
       "      <th>increment_id</th>\n",
       "      <th>category_name_1</th>\n",
       "      <th>...</th>\n",
       "      <th>discount_amount</th>\n",
       "      <th>payment_method</th>\n",
       "      <th>working_date</th>\n",
       "      <th>bi_status</th>\n",
       "      <th>_mv_</th>\n",
       "      <th>year</th>\n",
       "      <th>month</th>\n",
       "      <th>customer_since</th>\n",
       "      <th>fy</th>\n",
       "      <th>customer_id</th>\n",
       "    </tr>\n",
       "  </thead>\n",
       "  <tbody>\n",
       "    <tr>\n",
       "      <th>0</th>\n",
       "      <td>0</td>\n",
       "      <td>339248</td>\n",
       "      <td>order_refunded</td>\n",
       "      <td>2016-11-25</td>\n",
       "      <td>Al Muhafiz Sohan Halwa Almond</td>\n",
       "      <td>388.0</td>\n",
       "      <td>1</td>\n",
       "      <td>528.00</td>\n",
       "      <td>100232077</td>\n",
       "      <td>Soghaat</td>\n",
       "      <td>...</td>\n",
       "      <td>0.00</td>\n",
       "      <td>cod</td>\n",
       "      <td>2016-11-25</td>\n",
       "      <td>Valid</td>\n",
       "      <td>388</td>\n",
       "      <td>2016</td>\n",
       "      <td>11</td>\n",
       "      <td>2016-11-01</td>\n",
       "      <td>FY17</td>\n",
       "      <td>24190</td>\n",
       "    </tr>\n",
       "    <tr>\n",
       "      <th>1</th>\n",
       "      <td>1</td>\n",
       "      <td>492453</td>\n",
       "      <td>canceled</td>\n",
       "      <td>2017-05-21</td>\n",
       "      <td>Edenrobe_EMTPS17-009-M</td>\n",
       "      <td>805.0</td>\n",
       "      <td>1</td>\n",
       "      <td>1569.75</td>\n",
       "      <td>100315511</td>\n",
       "      <td>Men's Fashion</td>\n",
       "      <td>...</td>\n",
       "      <td>281.75</td>\n",
       "      <td>Payaxis</td>\n",
       "      <td>2017-05-21</td>\n",
       "      <td>Gross</td>\n",
       "      <td>805</td>\n",
       "      <td>2017</td>\n",
       "      <td>5</td>\n",
       "      <td>2017-05-01</td>\n",
       "      <td>FY17</td>\n",
       "      <td>47979</td>\n",
       "    </tr>\n",
       "    <tr>\n",
       "      <th>2</th>\n",
       "      <td>2</td>\n",
       "      <td>449913</td>\n",
       "      <td>complete</td>\n",
       "      <td>2017-04-18</td>\n",
       "      <td>Bsense_BSWN0023-L</td>\n",
       "      <td>799.0</td>\n",
       "      <td>1</td>\n",
       "      <td>4199.00</td>\n",
       "      <td>100295261</td>\n",
       "      <td>Women's Fashion</td>\n",
       "      <td>...</td>\n",
       "      <td>50.00</td>\n",
       "      <td>cod</td>\n",
       "      <td>2017-04-18</td>\n",
       "      <td>Net</td>\n",
       "      <td>799</td>\n",
       "      <td>2017</td>\n",
       "      <td>4</td>\n",
       "      <td>2017-04-01</td>\n",
       "      <td>FY17</td>\n",
       "      <td>41921</td>\n",
       "    </tr>\n",
       "    <tr>\n",
       "      <th>3</th>\n",
       "      <td>3</td>\n",
       "      <td>318375</td>\n",
       "      <td>complete</td>\n",
       "      <td>2016-11-24</td>\n",
       "      <td>Peacock_Sandwhich maker - peacock</td>\n",
       "      <td>1050.0</td>\n",
       "      <td>1</td>\n",
       "      <td>682.50</td>\n",
       "      <td>100219185</td>\n",
       "      <td>Appliances</td>\n",
       "      <td>...</td>\n",
       "      <td>367.50</td>\n",
       "      <td>jazzwallet</td>\n",
       "      <td>2016-11-24</td>\n",
       "      <td>Net</td>\n",
       "      <td>1,050</td>\n",
       "      <td>2016</td>\n",
       "      <td>11</td>\n",
       "      <td>2016-07-01</td>\n",
       "      <td>FY17</td>\n",
       "      <td>282</td>\n",
       "    </tr>\n",
       "    <tr>\n",
       "      <th>4</th>\n",
       "      <td>4</td>\n",
       "      <td>469257</td>\n",
       "      <td>complete</td>\n",
       "      <td>2017-05-16</td>\n",
       "      <td>emart_Kemei Lady Epilator</td>\n",
       "      <td>938.0</td>\n",
       "      <td>1</td>\n",
       "      <td>1658.00</td>\n",
       "      <td>100303858</td>\n",
       "      <td>Beauty &amp; Grooming</td>\n",
       "      <td>...</td>\n",
       "      <td>0.00</td>\n",
       "      <td>cod</td>\n",
       "      <td>2017-05-16</td>\n",
       "      <td>Net</td>\n",
       "      <td>938</td>\n",
       "      <td>2017</td>\n",
       "      <td>5</td>\n",
       "      <td>2016-09-01</td>\n",
       "      <td>FY17</td>\n",
       "      <td>9719</td>\n",
       "    </tr>\n",
       "  </tbody>\n",
       "</table>\n",
       "<p>5 rows × 21 columns</p>\n",
       "</div>"
      ],
      "text/plain": [
       "   unnamed:_0  item_id          status  created_at  \\\n",
       "0           0   339248  order_refunded  2016-11-25   \n",
       "1           1   492453        canceled  2017-05-21   \n",
       "2           2   449913        complete  2017-04-18   \n",
       "3           3   318375        complete  2016-11-24   \n",
       "4           4   469257        complete  2017-05-16   \n",
       "\n",
       "                                 sku   price  qty_ordered  grand_total  \\\n",
       "0      Al Muhafiz Sohan Halwa Almond   388.0            1       528.00   \n",
       "1             Edenrobe_EMTPS17-009-M   805.0            1      1569.75   \n",
       "2                  Bsense_BSWN0023-L   799.0            1      4199.00   \n",
       "3  Peacock_Sandwhich maker - peacock  1050.0            1       682.50   \n",
       "4          emart_Kemei Lady Epilator   938.0            1      1658.00   \n",
       "\n",
       "   increment_id    category_name_1  ... discount_amount  payment_method  \\\n",
       "0     100232077            Soghaat  ...            0.00             cod   \n",
       "1     100315511      Men's Fashion  ...          281.75         Payaxis   \n",
       "2     100295261    Women's Fashion  ...           50.00             cod   \n",
       "3     100219185         Appliances  ...          367.50      jazzwallet   \n",
       "4     100303858  Beauty & Grooming  ...            0.00             cod   \n",
       "\n",
       "  working_date bi_status   _mv_  year  month  customer_since    fy customer_id  \n",
       "0   2016-11-25     Valid    388  2016     11      2016-11-01  FY17       24190  \n",
       "1   2017-05-21     Gross    805  2017      5      2017-05-01  FY17       47979  \n",
       "2   2017-04-18       Net    799  2017      4      2017-04-01  FY17       41921  \n",
       "3   2016-11-24       Net  1,050  2016     11      2016-07-01  FY17         282  \n",
       "4   2017-05-16       Net    938  2017      5      2016-09-01  FY17        9719  \n",
       "\n",
       "[5 rows x 21 columns]"
      ]
     },
     "execution_count": 5,
     "metadata": {},
     "output_type": "execute_result"
    }
   ],
   "source": [
    "# Creat an expectation suite\n",
    "expectation_suite_name = 'expectation-ecommerce-dataset'\n",
    "context.add_or_update_expectation_suite(expectation_suite_name)\n",
    "\n",
    "# Create a validator using above expectation suite\n",
    "validator = context.get_validator(\n",
    "    batch_request = batch_request,\n",
    "    expectation_suite_name = expectation_suite_name\n",
    ")\n",
    "\n",
    "# Check the validator\n",
    "validator.head()"
   ]
  },
  {
   "cell_type": "code",
   "execution_count": 6,
   "metadata": {},
   "outputs": [
    {
     "data": {
      "application/vnd.jupyter.widget-view+json": {
       "model_id": "b8f7e4ec59ba441c841f62dba5a60d9e",
       "version_major": 2,
       "version_minor": 0
      },
      "text/plain": [
       "Calculating Metrics:   0%|          | 0/8 [00:00<?, ?it/s]"
      ]
     },
     "metadata": {},
     "output_type": "display_data"
    },
    {
     "data": {
      "text/plain": [
       "{\n",
       "  \"success\": true,\n",
       "  \"result\": {\n",
       "    \"element_count\": 49999,\n",
       "    \"unexpected_count\": 0,\n",
       "    \"unexpected_percent\": 0.0,\n",
       "    \"partial_unexpected_list\": [],\n",
       "    \"missing_count\": 0,\n",
       "    \"missing_percent\": 0.0,\n",
       "    \"unexpected_percent_total\": 0.0,\n",
       "    \"unexpected_percent_nonmissing\": 0.0\n",
       "  },\n",
       "  \"meta\": {},\n",
       "  \"exception_info\": {\n",
       "    \"raised_exception\": false,\n",
       "    \"exception_traceback\": null,\n",
       "    \"exception_message\": null\n",
       "  }\n",
       "}"
      ]
     },
     "execution_count": 6,
     "metadata": {},
     "output_type": "execute_result"
    }
   ],
   "source": [
    "validator.expect_column_values_to_be_unique('item_id')"
   ]
  },
  {
   "cell_type": "markdown",
   "metadata": {},
   "source": [
    "validasi diatas adalah validasi untuk mengecek apakah kolom item_id adalah kolom unique"
   ]
  },
  {
   "cell_type": "code",
   "execution_count": 7,
   "metadata": {},
   "outputs": [
    {
     "data": {
      "application/vnd.jupyter.widget-view+json": {
       "model_id": "bc8cb7d8bd3144f0bee6486d859ce3eb",
       "version_major": 2,
       "version_minor": 0
      },
      "text/plain": [
       "Calculating Metrics:   0%|          | 0/8 [00:00<?, ?it/s]"
      ]
     },
     "metadata": {},
     "output_type": "display_data"
    },
    {
     "data": {
      "text/plain": [
       "{\n",
       "  \"success\": true,\n",
       "  \"result\": {\n",
       "    \"element_count\": 49999,\n",
       "    \"unexpected_count\": 0,\n",
       "    \"unexpected_percent\": 0.0,\n",
       "    \"partial_unexpected_list\": [],\n",
       "    \"missing_count\": 0,\n",
       "    \"missing_percent\": 0.0,\n",
       "    \"unexpected_percent_total\": 0.0,\n",
       "    \"unexpected_percent_nonmissing\": 0.0\n",
       "  },\n",
       "  \"meta\": {},\n",
       "  \"exception_info\": {\n",
       "    \"raised_exception\": false,\n",
       "    \"exception_traceback\": null,\n",
       "    \"exception_message\": null\n",
       "  }\n",
       "}"
      ]
     },
     "execution_count": 7,
     "metadata": {},
     "output_type": "execute_result"
    }
   ],
   "source": [
    "validator.expect_column_values_to_be_between(\n",
    "    column='price', min_value=0, max_value=5000000\n",
    ")"
   ]
  },
  {
   "cell_type": "markdown",
   "metadata": {},
   "source": [
    "validasi diatas adalah validasi untuk mengecek apakah value dalam tabel price mencapai 50rb"
   ]
  },
  {
   "cell_type": "code",
   "execution_count": 8,
   "metadata": {},
   "outputs": [
    {
     "data": {
      "application/vnd.jupyter.widget-view+json": {
       "model_id": "92443a8d7422442ca5c595f370cc66a5",
       "version_major": 2,
       "version_minor": 0
      },
      "text/plain": [
       "Calculating Metrics:   0%|          | 0/8 [00:00<?, ?it/s]"
      ]
     },
     "metadata": {},
     "output_type": "display_data"
    },
    {
     "data": {
      "text/plain": [
       "{\n",
       "  \"success\": true,\n",
       "  \"result\": {\n",
       "    \"element_count\": 49999,\n",
       "    \"unexpected_count\": 0,\n",
       "    \"unexpected_percent\": 0.0,\n",
       "    \"partial_unexpected_list\": [],\n",
       "    \"missing_count\": 0,\n",
       "    \"missing_percent\": 0.0,\n",
       "    \"unexpected_percent_total\": 0.0,\n",
       "    \"unexpected_percent_nonmissing\": 0.0\n",
       "  },\n",
       "  \"meta\": {},\n",
       "  \"exception_info\": {\n",
       "    \"raised_exception\": false,\n",
       "    \"exception_traceback\": null,\n",
       "    \"exception_message\": null\n",
       "  }\n",
       "}"
      ]
     },
     "execution_count": 8,
     "metadata": {},
     "output_type": "execute_result"
    }
   ],
   "source": [
    "validator.expect_column_values_to_be_in_set('payment_method', ['cod', 'ublcreditcard', 'mygateway', 'customercredit',\n",
    "       'cashatdoorstep', 'mcblite', 'internetbanking', 'marketingexpense',\n",
    "       'productcredit', 'financesettlement', 'Payaxis', 'jazzvoucher',\n",
    "       'jazzwallet', 'Easypay', 'Easypay_MA', 'easypay_voucher',\n",
    "       'bankalfalah', 'apg'])"
   ]
  },
  {
   "cell_type": "markdown",
   "metadata": {},
   "source": [
    "validasi diatas adalah validasi yang dilakukan untuk mengecek apakah value yang saya mau ada di dalam kolom 'payment_method"
   ]
  },
  {
   "cell_type": "code",
   "execution_count": 9,
   "metadata": {},
   "outputs": [
    {
     "data": {
      "application/vnd.jupyter.widget-view+json": {
       "model_id": "518b7d5edaa9417c8f254d13d3762941",
       "version_major": 2,
       "version_minor": 0
      },
      "text/plain": [
       "Calculating Metrics:   0%|          | 0/1 [00:00<?, ?it/s]"
      ]
     },
     "metadata": {},
     "output_type": "display_data"
    },
    {
     "data": {
      "text/plain": [
       "{\n",
       "  \"success\": true,\n",
       "  \"result\": {\n",
       "    \"observed_value\": \"float64\"\n",
       "  },\n",
       "  \"meta\": {},\n",
       "  \"exception_info\": {\n",
       "    \"raised_exception\": false,\n",
       "    \"exception_traceback\": null,\n",
       "    \"exception_message\": null\n",
       "  }\n",
       "}"
      ]
     },
     "execution_count": 9,
     "metadata": {},
     "output_type": "execute_result"
    }
   ],
   "source": [
    "validator.expect_column_values_to_be_in_type_list('grand_total', ['integer', 'float'])"
   ]
  },
  {
   "cell_type": "markdown",
   "metadata": {},
   "source": [
    "validasi diatas adalah validatasi untuk mengecek apakah kolom 'grand_total' tipenya adalah integer/float"
   ]
  },
  {
   "cell_type": "code",
   "execution_count": 10,
   "metadata": {},
   "outputs": [
    {
     "data": {
      "application/vnd.jupyter.widget-view+json": {
       "model_id": "7ae69c8684194692b57b20ae41b72f82",
       "version_major": 2,
       "version_minor": 0
      },
      "text/plain": [
       "Calculating Metrics:   0%|          | 0/1 [00:00<?, ?it/s]"
      ]
     },
     "metadata": {},
     "output_type": "display_data"
    },
    {
     "data": {
      "text/plain": [
       "{\n",
       "  \"success\": true,\n",
       "  \"result\": {\n",
       "    \"observed_value\": {\n",
       "      \"self\": 49999,\n",
       "      \"other\": 49999\n",
       "    }\n",
       "  },\n",
       "  \"meta\": {},\n",
       "  \"exception_info\": {\n",
       "    \"raised_exception\": false,\n",
       "    \"exception_traceback\": null,\n",
       "    \"exception_message\": null\n",
       "  }\n",
       "}"
      ]
     },
     "execution_count": 10,
     "metadata": {},
     "output_type": "execute_result"
    }
   ],
   "source": [
    "validator.expect_table_row_count_to_equal_other_table()"
   ]
  },
  {
   "cell_type": "markdown",
   "metadata": {},
   "source": [
    "validasi diatas untuk mengecek apakah semua kolom memiliki baris yang sama"
   ]
  },
  {
   "cell_type": "code",
   "execution_count": 11,
   "metadata": {},
   "outputs": [
    {
     "data": {
      "application/vnd.jupyter.widget-view+json": {
       "model_id": "6f6ab3af059d47c9a28c9cbae0f40d50",
       "version_major": 2,
       "version_minor": 0
      },
      "text/plain": [
       "Calculating Metrics:   0%|          | 0/4 [00:00<?, ?it/s]"
      ]
     },
     "metadata": {},
     "output_type": "display_data"
    },
    {
     "data": {
      "text/plain": [
       "{\n",
       "  \"success\": true,\n",
       "  \"result\": {\n",
       "    \"observed_value\": 18\n",
       "  },\n",
       "  \"meta\": {},\n",
       "  \"exception_info\": {\n",
       "    \"raised_exception\": false,\n",
       "    \"exception_traceback\": null,\n",
       "    \"exception_message\": null\n",
       "  }\n",
       "}"
      ]
     },
     "execution_count": 11,
     "metadata": {},
     "output_type": "execute_result"
    }
   ],
   "source": [
    "validator.expect_column_unique_value_count_to_be_between('payment_method', min_value=2, max_value=18)"
   ]
  },
  {
   "cell_type": "markdown",
   "metadata": {},
   "source": [
    "validasi diatas untuk mengecek apakah jumlah unique value payment_methodberada diantara 2 dan 18"
   ]
  },
  {
   "cell_type": "code",
   "execution_count": 12,
   "metadata": {},
   "outputs": [
    {
     "data": {
      "application/vnd.jupyter.widget-view+json": {
       "model_id": "11c997856e054734a56ffa534b960ab1",
       "version_major": 2,
       "version_minor": 0
      },
      "text/plain": [
       "Calculating Metrics:   0%|          | 0/4 [00:00<?, ?it/s]"
      ]
     },
     "metadata": {},
     "output_type": "display_data"
    },
    {
     "data": {
      "text/plain": [
       "{\n",
       "  \"success\": true,\n",
       "  \"result\": {\n",
       "    \"observed_value\": 64332\n",
       "  },\n",
       "  \"meta\": {},\n",
       "  \"exception_info\": {\n",
       "    \"raised_exception\": false,\n",
       "    \"exception_traceback\": null,\n",
       "    \"exception_message\": null\n",
       "  }\n",
       "}"
      ]
     },
     "execution_count": 12,
     "metadata": {},
     "output_type": "execute_result"
    }
   ],
   "source": [
    "validator.expect_column_sum_to_be_between(column=\"qty_ordered\", min_value=1,max_value=100000)"
   ]
  },
  {
   "cell_type": "markdown",
   "metadata": {},
   "source": [
    "validasi diatas untuk mengecek apakah total order berada diantara 1 sampai 100rb 18"
   ]
  }
 ],
 "metadata": {
  "kernelspec": {
   "display_name": "base",
   "language": "python",
   "name": "python3"
  },
  "language_info": {
   "codemirror_mode": {
    "name": "ipython",
    "version": 3
   },
   "file_extension": ".py",
   "mimetype": "text/x-python",
   "name": "python",
   "nbconvert_exporter": "python",
   "pygments_lexer": "ipython3",
   "version": "3.9.19"
  }
 },
 "nbformat": 4,
 "nbformat_minor": 2
}
